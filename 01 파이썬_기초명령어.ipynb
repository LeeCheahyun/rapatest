{
 "cells": [
  {
   "cell_type": "markdown",
   "id": "406efaf7",
   "metadata": {},
   "source": [
    "# 제목\n",
    "## 제목\n",
    "\n",
    "- 오늘은 파이썬 첫 시간 입니다.\n",
    "- 1. 처음은 항상 어쩌구\n",
    "- 2. 어쩌구"
   ]
  },
  {
   "cell_type": "code",
   "execution_count": null,
   "id": "8e5ab5a9",
   "metadata": {},
   "outputs": [],
   "source": [
    "import sys\n"
   ]
  },
  {
   "cell_type": "code",
   "execution_count": null,
   "id": "f7802466",
   "metadata": {},
   "outputs": [],
   "source": [
    "hap = 0\n",
    "for i in range(1,11,1):\n",
    "    hap=hap+i\n",
    "print(f'1에서 10까지의 합계: {hap}')"
   ]
  },
  {
   "cell_type": "markdown",
   "id": "35b4c047",
   "metadata": {},
   "source": [
    "# 제목"
   ]
  },
  {
   "cell_type": "code",
   "execution_count": null,
   "id": "d062b702",
   "metadata": {},
   "outputs": [],
   "source": [
    "import sys\n",
    "sys.executable"
   ]
  },
  {
   "cell_type": "code",
   "execution_count": 9,
   "id": "abf8d0cc",
   "metadata": {},
   "outputs": [
    {
     "ename": "NameError",
     "evalue": "name 'sys' is not defined",
     "output_type": "error",
     "traceback": [
      "\u001b[1;31m---------------------------------------------------------------------------\u001b[0m",
      "\u001b[1;31mNameError\u001b[0m                                 Traceback (most recent call last)",
      "\u001b[1;32m~\\AppData\\Local\\Temp/ipykernel_2312/3030671174.py\u001b[0m in \u001b[0;36m<module>\u001b[1;34m\u001b[0m\n\u001b[1;32m----> 1\u001b[1;33m \u001b[0mprint\u001b[0m\u001b[1;33m(\u001b[0m\u001b[0msys\u001b[0m\u001b[1;33m.\u001b[0m\u001b[0mpath\u001b[0m\u001b[1;33m)\u001b[0m\u001b[1;33m\u001b[0m\u001b[1;33m\u001b[0m\u001b[0m\n\u001b[0m",
      "\u001b[1;31mNameError\u001b[0m: name 'sys' is not defined"
     ]
    }
   ],
   "source": [
    "print(sys.path)"
   ]
  },
  {
   "cell_type": "code",
   "execution_count": null,
   "id": "dd40159a",
   "metadata": {},
   "outputs": [],
   "source": [
    "pip list"
   ]
  },
  {
   "cell_type": "code",
   "execution_count": 2,
   "id": "f4d84330",
   "metadata": {},
   "outputs": [
    {
     "name": "stdout",
     "output_type": "stream",
     "text": [
      "Package             Version\n",
      "------------------- -------\n",
      "argon2-cffi         20.1.0\n",
      "attrs               21.2.0\n",
      "backcall            0.2.0\n",
      "bleach              4.0.0\n",
      "cffi                1.14.6\n",
      "colorama            0.4.4\n",
      "debugpy             1.4.1\n",
      "decorator           5.0.9\n",
      "defusedxml          0.7.1\n",
      "entrypoints         0.3\n",
      "ipykernel           6.2.0\n",
      "ipython             7.26.0\n",
      "ipython-genutils    0.2.0\n",
      "ipywidgets          7.6.3\n",
      "jedi                0.18.0\n",
      "Jinja2              3.0.1\n",
      "jsonschema          3.2.0\n",
      "jupyter             1.0.0\n",
      "jupyter-client      7.0.1\n",
      "jupyter-console     6.4.0\n",
      "jupyter-core        4.7.1\n",
      "jupyterlab-pygments 0.1.2\n",
      "jupyterlab-widgets  1.0.0\n",
      "MarkupSafe          2.0.1\n",
      "matplotlib-inline   0.1.2\n",
      "mistune             0.8.4\n",
      "nbclient            0.5.4\n",
      "nbconvert           6.1.0\n",
      "nbformat            5.1.3\n",
      "nest-asyncio        1.5.1\n",
      "notebook            6.4.3\n",
      "packaging           21.0\n",
      "pandocfilters       1.4.3\n",
      "parso               0.8.2\n",
      "pickleshare         0.7.5\n",
      "pip                 21.2.4\n",
      "prometheus-client   0.11.0\n",
      "prompt-toolkit      3.0.20\n",
      "pycparser           2.20\n",
      "Pygments            2.10.0\n",
      "pyparsing           2.4.7\n",
      "pyrsistent          0.18.0\n",
      "python-dateutil     2.8.2\n",
      "pywin32             301\n",
      "pywinpty            1.1.3\n",
      "pyzmq               22.2.1\n",
      "qtconsole           5.1.1\n",
      "QtPy                1.10.0\n",
      "Send2Trash          1.8.0\n",
      "setuptools          56.0.0\n",
      "six                 1.16.0\n",
      "terminado           0.11.1\n",
      "testpath            0.5.0\n",
      "tornado             6.1\n",
      "traitlets           5.0.5\n",
      "wcwidth             0.2.5\n",
      "webencodings        0.5.1\n",
      "widgetsnbextension  3.5.1\n"
     ]
    }
   ],
   "source": [
    "!pip list"
   ]
  },
  {
   "cell_type": "code",
   "execution_count": 1,
   "id": "9a46c7a8",
   "metadata": {},
   "outputs": [
    {
     "name": "stdout",
     "output_type": "stream",
     "text": [
      "Name: jupyter\n",
      "Version: 1.0.0\n",
      "Summary: Jupyter metapackage. Install all the Jupyter components in one go.\n",
      "Home-page: http://jupyter.org\n",
      "Author: Jupyter Development Team\n",
      "Author-email: jupyter@googlegroups.org\n",
      "License: BSD\n",
      "Location: c:\\python\\python38\\lib\\site-packages\n",
      "Requires: notebook, jupyter-console, ipywidgets, ipykernel, nbconvert, qtconsole\n",
      "Required-by: \n"
     ]
    }
   ],
   "source": [
    "!pip show jupyter"
   ]
  },
  {
   "cell_type": "code",
   "execution_count": 3,
   "id": "4ef821cc",
   "metadata": {},
   "outputs": [
    {
     "data": {
      "text/plain": [
       "int"
      ]
     },
     "execution_count": 3,
     "metadata": {},
     "output_type": "execute_result"
    }
   ],
   "source": [
    "v=5\n",
    "type(v)"
   ]
  },
  {
   "cell_type": "code",
   "execution_count": 4,
   "id": "25e9a6b9",
   "metadata": {},
   "outputs": [
    {
     "data": {
      "text/plain": [
       "str"
      ]
     },
     "execution_count": 4,
     "metadata": {},
     "output_type": "execute_result"
    }
   ],
   "source": [
    "v=\"5\"\n",
    "type(v)"
   ]
  },
  {
   "cell_type": "code",
   "execution_count": 5,
   "id": "3b53c706",
   "metadata": {},
   "outputs": [
    {
     "data": {
      "text/plain": [
       "float"
      ]
     },
     "execution_count": 5,
     "metadata": {},
     "output_type": "execute_result"
    }
   ],
   "source": [
    "v=3.14\n",
    "type(v)"
   ]
  },
  {
   "cell_type": "markdown",
   "id": "8c17e683",
   "metadata": {},
   "source": [
    "# 집에 가고 싶어요"
   ]
  },
  {
   "cell_type": "code",
   "execution_count": 10,
   "id": "b561046f",
   "metadata": {},
   "outputs": [
    {
     "name": "stdout",
     "output_type": "stream",
     "text": [
      "집에 가\n"
     ]
    }
   ],
   "source": [
    "집에가고싶어요='집에 가'\n",
    "print(집에가고싶어요)"
   ]
  },
  {
   "cell_type": "code",
   "execution_count": 11,
   "id": "22176a88",
   "metadata": {},
   "outputs": [
    {
     "name": "stdout",
     "output_type": "stream",
     "text": [
      "33\n"
     ]
    }
   ],
   "source": [
    "x=100\n",
    "y=3\n",
    "print(x//y)"
   ]
  },
  {
   "cell_type": "code",
   "execution_count": 12,
   "id": "ed4200af",
   "metadata": {},
   "outputs": [
    {
     "name": "stdout",
     "output_type": "stream",
     "text": [
      "1\n"
     ]
    }
   ],
   "source": [
    "x=100\n",
    "y=3\n",
    "print(x%y)"
   ]
  },
  {
   "cell_type": "markdown",
   "id": "b29fd413",
   "metadata": {},
   "source": [
    "### 정수의 진수 표현"
   ]
  },
  {
   "cell_type": "code",
   "execution_count": 15,
   "id": "1ab839e7",
   "metadata": {},
   "outputs": [
    {
     "name": "stdout",
     "output_type": "stream",
     "text": [
      "83\n",
      "4764\n",
      "4266\n"
     ]
    }
   ],
   "source": [
    "b1 = 0b1010011\n",
    "o1=0o11234\n",
    "h1 = 0x10AA\n",
    "print(b1)\n",
    "print(o1)\n",
    "print(h1)"
   ]
  },
  {
   "cell_type": "code",
   "execution_count": 17,
   "id": "67a88ad1",
   "metadata": {},
   "outputs": [
    {
     "name": "stdout",
     "output_type": "stream",
     "text": [
      "0b1100100\n",
      "0o144\n",
      "0x64\n"
     ]
    }
   ],
   "source": [
    "b2=bin(100)\n",
    "o2=oct(100)\n",
    "h2=hex(100)\n",
    "print(b2)\n",
    "print(o2)\n",
    "print(h2)"
   ]
  },
  {
   "cell_type": "code",
   "execution_count": 18,
   "id": "1ebf4efd",
   "metadata": {},
   "outputs": [
    {
     "name": "stdout",
     "output_type": "stream",
     "text": [
      "100\n"
     ]
    }
   ],
   "source": [
    "b2=0b1100100\n",
    "print (b2) "
   ]
  },
  {
   "cell_type": "markdown",
   "id": "84ac541d",
   "metadata": {},
   "source": []
  },
  {
   "cell_type": "code",
   "execution_count": 19,
   "id": "da921bd3",
   "metadata": {},
   "outputs": [
    {
     "name": "stdout",
     "output_type": "stream",
     "text": [
      "4349\n"
     ]
    }
   ],
   "source": [
    "print(b1+h1)"
   ]
  },
  {
   "cell_type": "code",
   "execution_count": 23,
   "id": "cff99a00",
   "metadata": {},
   "outputs": [
    {
     "name": "stdout",
     "output_type": "stream",
     "text": [
      "숫자입력: 100\n",
      "<class 'str'>\n",
      "300\n"
     ]
    }
   ],
   "source": [
    "a=input(\"숫자입력: \")\n",
    "print(type(a))\n",
    "\n",
    "print(int(a)+200)"
   ]
  },
  {
   "cell_type": "code",
   "execution_count": 21,
   "id": "8c805849",
   "metadata": {},
   "outputs": [
    {
     "name": "stdout",
     "output_type": "stream",
     "text": [
      "숫자입력: 암냠냠\n",
      "<class 'str'>\n"
     ]
    }
   ],
   "source": [
    "a=input(\"숫자입력: \")\n",
    "print(type(a))"
   ]
  },
  {
   "cell_type": "code",
   "execution_count": 34,
   "id": "0f9d4e51",
   "metadata": {},
   "outputs": [
    {
     "name": "stdout",
     "output_type": "stream",
     "text": [
      "첫번째 숫자: 50\n",
      "두번째 숫자: 20\n",
      "50\n",
      "20\n",
      "50+20=70\n",
      "50-20=30\n",
      "1000\n",
      "2\n",
      "10\n"
     ]
    }
   ],
   "source": [
    "num1 = int(input('첫번째 숫자: '))\n",
    "num2 = int(input('두번째 숫자: '))\n",
    "\n",
    "print(num1)\n",
    "print(num2)\n",
    "\n",
    "print('%d+%d=%d'%(num1,num2,(num1+num2)))\n",
    "print('%d-%d=%d'%(num1,num2,(num1-num2)))\n",
    "print(num1*num2)\n",
    "print(num1//num2)\n",
    "print(num1%num2)"
   ]
  },
  {
   "cell_type": "code",
   "execution_count": 60,
   "id": "1c04b603",
   "metadata": {},
   "outputs": [
    {
     "name": "stdout",
     "output_type": "stream",
     "text": [
      "첫번째 숫자: 50\n",
      "두번째 숫자: 3\n",
      "덧셈: 50+3=53\n",
      "뺄셈: 50-3=47\n",
      "곱셈: 50*3=150\n",
      "몫: 50//3=16\n",
      "나머지: 50%3=2\n"
     ]
    }
   ],
   "source": [
    "num1 = int(input('첫번째 숫자: '))\n",
    "num2 = int(input('두번째 숫자: '))\n",
    "print('덧셈: %d+%d=%d'%(num1,num2,(num1+num2)))\n",
    "print('뺄셈: %d-%d=%d'%(num1,num2,(num1-num2)))\n",
    "print('곱셈: %d*%d=%d'%(num1,num2,(num1*num2)))\n",
    "print('몫: %d//%d=%d'%(num1,num2,(num1//num2)))\n",
    "print('나머지: %d%%%d=%d'%(num1,num2,(num1%num2)))"
   ]
  },
  {
   "cell_type": "code",
   "execution_count": 61,
   "id": "8dbcda18",
   "metadata": {},
   "outputs": [
    {
     "name": "stdout",
     "output_type": "stream",
     "text": [
      "속도를 입력해 주세요: 200\n",
      "거리를 입력해 주세요: 50\n",
      "속도= 200\n",
      "거리= 50\n",
      "시간= 50/200=0.2\n"
     ]
    }
   ],
   "source": [
    "T=int(input('속도를 입력해 주세요: '))\n",
    "D=int(input('거리를 입력해 주세요: '))\n",
    "print('속도= %d'%(T))\n",
    "print('거리= %d'%(D))\n",
    "print('시간= %d/%d=%2.1f'%(D,T,(D/T)))"
   ]
  },
  {
   "cell_type": "code",
   "execution_count": 68,
   "id": "b6c8257d",
   "metadata": {},
   "outputs": [
    {
     "name": "stdout",
     "output_type": "stream",
     "text": [
      "123   123 00123\n"
     ]
    }
   ],
   "source": [
    "print(\"%d %5d %05d\"% (123,123,123))"
   ]
  },
  {
   "cell_type": "code",
   "execution_count": 69,
   "id": "d9d7d172",
   "metadata": {},
   "outputs": [
    {
     "name": "stdout",
     "output_type": "stream",
     "text": [
      "123  12300123\n"
     ]
    }
   ],
   "source": [
    "print(\"{0:d}{1:5d}{2:05d}\" .format(123,123,123))"
   ]
  },
  {
   "cell_type": "code",
   "execution_count": 71,
   "id": "b117db86",
   "metadata": {},
   "outputs": [
    {
     "name": "stdout",
     "output_type": "stream",
     "text": [
      "300200100\n"
     ]
    }
   ],
   "source": [
    "print(\"{2:d}{1:d}{0:d}\" .format(100,200,300))"
   ]
  },
  {
   "cell_type": "code",
   "execution_count": 67,
   "id": "feb0dd22",
   "metadata": {},
   "outputs": [
    {
     "name": "stdout",
     "output_type": "stream",
     "text": [
      "정수를 입력하세요: 7\n",
      "7+77+777=861\n"
     ]
    }
   ],
   "source": [
    "a = int(input('정수를 입력하세요: '))\n",
    "aa = 10*a+a\n",
    "aaa = 100*a+10*a+a\n",
    "print('%d+%d+%d=%d'%(a,aa,aaa,(a+aa+aaa)))"
   ]
  },
  {
   "cell_type": "code",
   "execution_count": 74,
   "id": "e5422daa",
   "metadata": {},
   "outputs": [
    {
     "name": "stdout",
     "output_type": "stream",
     "text": [
      "정수: 7\n",
      "7+77+777=861\n"
     ]
    }
   ],
   "source": [
    "a = input('정수: ')\n",
    "\n",
    "n = int(a)\n",
    "nn = int(a+a)\n",
    "nnn = int(a+a+a)\n",
    "\n",
    "print(f'{n}+{nn}+{nnn}={n+nn+nnn}')"
   ]
  },
  {
   "cell_type": "markdown",
   "id": "48031ee3",
   "metadata": {},
   "source": [
    "# 끝내주세요"
   ]
  },
  {
   "cell_type": "code",
   "execution_count": 5,
   "id": "fc00c998",
   "metadata": {},
   "outputs": [
    {
     "data": {
      "text/plain": [
       "'사'"
      ]
     },
     "execution_count": 5,
     "metadata": {},
     "output_type": "execute_result"
    }
   ],
   "source": [
    "a = \"사랑해요, 파이썬!\"\n",
    "a[0]"
   ]
  },
  {
   "cell_type": "code",
   "execution_count": null,
   "id": "28690bd4",
   "metadata": {},
   "outputs": [],
   "source": []
  },
  {
   "cell_type": "code",
   "execution_count": null,
   "id": "3f7aced0",
   "metadata": {},
   "outputs": [],
   "source": []
  },
  {
   "cell_type": "code",
   "execution_count": null,
   "id": "f926213f",
   "metadata": {},
   "outputs": [],
   "source": []
  },
  {
   "cell_type": "code",
   "execution_count": null,
   "id": "d65daa33",
   "metadata": {},
   "outputs": [],
   "source": []
  }
 ],
 "metadata": {
  "kernelspec": {
   "display_name": "Python 3 (ipykernel)",
   "language": "python",
   "name": "python3"
  },
  "language_info": {
   "codemirror_mode": {
    "name": "ipython",
    "version": 3
   },
   "file_extension": ".py",
   "mimetype": "text/x-python",
   "name": "python",
   "nbconvert_exporter": "python",
   "pygments_lexer": "ipython3",
   "version": "3.8.10"
  }
 },
 "nbformat": 4,
 "nbformat_minor": 5
}
